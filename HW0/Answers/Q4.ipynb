{
 "cells": [
  {
   "cell_type": "markdown",
   "metadata": {},
   "source": [
    "# Q4"
   ]
  },
  {
   "cell_type": "markdown",
   "metadata": {},
   "source": [
    "## Part A"
   ]
  },
  {
   "cell_type": "code",
   "execution_count": 2,
   "metadata": {},
   "outputs": [
    {
     "name": "stdout",
     "output_type": "stream",
     "text": [
      "[[0.78125  1.78125  2.78125 ]\n",
      " [4.       5.       6.      ]\n",
      " [7.171875 8.171875 9.171875]]\n"
     ]
    }
   ],
   "source": [
    "import numpy as np\n",
    "\"\"\"\n",
    "Please define the mentioned matrices and the operations\n",
    "\n",
    "consider the bellow links:\n",
    "https://numpy.org/doc/stable/reference/generated/numpy.transpose.html\n",
    "\n",
    "https://numpy.org/doc/stable/reference/generated/numpy.dot.html\n",
    "\n",
    "\"\"\"\n",
    "matris_A = np.array([[1,2,3] , [4,5,6] , [7,8,9]])\n",
    "matris_B = np.array([[1] , [-1] , [1]])\n",
    "\n",
    "matris_A_transpose = np.transpose(matris_A)\n",
    "\n",
    "x1 = np.linalg.inv(np.dot( matris_A_transpose , matris_A ))\n",
    "x2 = np.dot(matris_A_transpose , matris_B)\n",
    "result = np.dot(x1 , x2) + matris_A\n",
    "print(result)\n"
   ]
  },
  {
   "cell_type": "markdown",
   "metadata": {},
   "source": [
    "## Part B"
   ]
  },
  {
   "cell_type": "code",
   "execution_count": 13,
   "metadata": {},
   "outputs": [],
   "source": [
    "def window_sliding(A, B):\n",
    "\n",
    "  w1 , h1 = B.shape; \n",
    "  w2, h2 = A.shape; \n",
    " \n",
    "\n",
    "  result = np.zeros((w2, h2))\n",
    "  for i in range(w1): \n",
    "    for j in range(h1): \n",
    "      x = True\n",
    "      sum = 0\n",
    "      for k in range(w2): \n",
    "        for t in range(h2):\n",
    "          if(i+k <w1 and j + t < h1):\n",
    "            sum += B[i+k, j+t]* A[k,t]\n",
    "          else:\n",
    "            x = False\n",
    "      if(x):\n",
    "        result[i , j]= sum\n",
    "      \n",
    "    \n",
    "      \n",
    "  return result"
   ]
  },
  {
   "cell_type": "code",
   "execution_count": 14,
   "metadata": {},
   "outputs": [
    {
     "name": "stdout",
     "output_type": "stream",
     "text": [
      "[[-7. -5. -7.]\n",
      " [-5. -2. -5.]\n",
      " [-7. -5. -7.]]\n"
     ]
    }
   ],
   "source": [
    "A = np.array([[1,1,1] , [1, -9 , 1] , [1,1,1]])\n",
    "B = np.array([[1,1,1,1,1], [1,2,2,2,1], [1,2,2,2,1] , [1,2,2,2,1] , [1,1,1,1,1]])\n",
    "print(window_sliding(A, B))"
   ]
  }
 ],
 "metadata": {
  "kernelspec": {
   "display_name": "Python 3",
   "language": "python",
   "name": "python3"
  },
  "language_info": {
   "codemirror_mode": {
    "name": "ipython",
    "version": 3
   },
   "file_extension": ".py",
   "mimetype": "text/x-python",
   "name": "python",
   "nbconvert_exporter": "python",
   "pygments_lexer": "ipython3",
   "version": "3.10.6"
  },
  "orig_nbformat": 4,
  "vscode": {
   "interpreter": {
    "hash": "bcfb44a863067ea4e90f0953beba97ab92d217ab9037ee4bc593c867b78e2025"
   }
  }
 },
 "nbformat": 4,
 "nbformat_minor": 2
}
