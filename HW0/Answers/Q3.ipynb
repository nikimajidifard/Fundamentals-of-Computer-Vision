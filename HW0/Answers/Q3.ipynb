{
  "cells": [
    {
      "attachments": {},
      "cell_type": "markdown",
      "metadata": {
        "id": "P9PoDHBl3QKv"
      },
      "source": [
        "# Q3\n",
        "*Work with Numpy*<br>\n",
        "In this notebook you're going to work with the numpy library to solve the problems<br>\n",
        "Please follow the instructions and hints provided for each cell"
      ]
    },
    {
      "attachments": {},
      "cell_type": "markdown",
      "metadata": {},
      "source": [
        "## Part A"
      ]
    },
    {
      "cell_type": "code",
      "execution_count": 1,
      "metadata": {
        "id": "1ZbZ5H1j5Zhw"
      },
      "outputs": [],
      "source": [
        "import numpy as np\n",
        "import collections"
      ]
    },
    {
      "cell_type": "code",
      "execution_count": 2,
      "metadata": {
        "id": "5nvuXUyB2aLJ"
      },
      "outputs": [],
      "source": [
        "def create_matrix(n):\n",
        "  \"\"\"\n",
        "  In this function you should create matrix in order of n*n with random numbers \n",
        "  in the [n, n+100) interval.\n",
        "\n",
        "  see the bellow link:\n",
        "    https://numpy.org/doc/stable/reference/random/generated/numpy.random.randint.html\n",
        "\n",
        "  Arguments:\n",
        "    inputs:\n",
        "      n: an integer describing the order of the matrix\n",
        "    outputs:\n",
        "      created matrix  \n",
        "  \"\"\"\n",
        "  ##############################################\n",
        "  ############ YOUR CODES GO HERE ##############\n",
        "  matrix = np.random.randint(low=n , high=n+100, size=(n, n))\n",
        "\n",
        "  ##############################################\n",
        "\n",
        "  return matrix"
      ]
    },
    {
      "cell_type": "code",
      "execution_count": 8,
      "metadata": {
        "id": "1PiKjLsl6KhD"
      },
      "outputs": [
        {
          "name": "stdout",
          "output_type": "stream",
          "text": [
            "[[ 56  56   8]\n",
            " [ 23  85  74]\n",
            " [ 87 100  81]]\n"
          ]
        }
      ],
      "source": [
        "\"\"\"\n",
        "In this cell you should get the input n and create the matrix by calling the function\n",
        "Then print the matrix\n",
        "\"\"\"\n",
        "##############################################\n",
        "############ YOUR CODES GO HERE ##############\n",
        "\n",
        "matrix = create_matrix(3)\n",
        "print(matrix)\n",
        "##############################################"
      ]
    },
    {
      "cell_type": "code",
      "execution_count": 4,
      "metadata": {
        "id": "Cnocq2_56mdx"
      },
      "outputs": [],
      "source": [
        "\n",
        "def return_digits(number):\n",
        "  list_of_digits = [int(i) for i in str(number)]\n",
        "  return list_of_digits\n",
        "\n",
        "\n",
        "\n",
        "def count_digits(matrix):\n",
        "  \"\"\"\n",
        "  In this function you should implement a routine to count the digits in the given matrix.\n",
        "\n",
        "  Arguments:\n",
        "    inputs:\n",
        "      matrix: input matrix\n",
        "    outputs:\n",
        "      digits: a dictionary containing digits as its keys and the counted numbers as its value\n",
        " \n",
        "   \"\"\"\n",
        "  list_of_all_digits = []\n",
        "  for x in np.nditer(matrix):\n",
        "    list_of_all_digits = return_digits(x) + list_of_all_digits\n",
        "\n",
        "  counter = collections.Counter(list_of_all_digits)\n",
        "\n",
        "  ##############################################\n",
        "  ############ YOUR CODES GO HERE ##############\n",
        "  digits = counter\n",
        "  dictionary1 = sorted(digits)\n",
        "  sorted_dict = {key:digits[key] for key in dictionary1}\n",
        "  ##############################################\n",
        "\n",
        "  return sorted_dict\n"
      ]
    },
    {
      "cell_type": "code",
      "execution_count": 5,
      "metadata": {
        "id": "Aq3mHGcc7f2i"
      },
      "outputs": [
        {
          "name": "stdout",
          "output_type": "stream",
          "text": [
            "{0: 2, 1: 2, 2: 2, 4: 2, 5: 2, 6: 4, 7: 1, 8: 2, 9: 1}\n"
          ]
        }
      ],
      "source": [
        "\"\"\"\n",
        "In this cell call the implemented function and print the result\n",
        "\"\"\"\n",
        "print(count_digits(matrix))\n",
        "\n",
        "##############################################\n",
        "############ YOUR CODES GO HERE ##############\n",
        "##############################################"
      ]
    },
    {
      "attachments": {},
      "cell_type": "markdown",
      "metadata": {
        "id": "ALqhYliZ8Ie8"
      },
      "source": [
        "## Part B"
      ]
    },
    {
      "cell_type": "code",
      "execution_count": 6,
      "metadata": {
        "id": "bhTfjtO78LT1"
      },
      "outputs": [],
      "source": [
        "def traverse_matrix(matrix):\n",
        "  \"\"\"\n",
        "  Traverse the input matrix in the given manner then print result\n",
        "\n",
        "  Arguments:\n",
        "    inputs:\n",
        "      matrix: input matrix\n",
        "    outputs\n",
        "  \"\"\"\n",
        "  \n",
        "  new_matrix = matrix.copy() \n",
        "  size = matrix.shape[0]\n",
        "  for i in range(size): \n",
        "    i= i+1\n",
        "    submatrix = new_matrix[:i , :i]\n",
        "    if(i%2 == 0): \n",
        "      for item in np.fliplr(submatrix).diagonal(): print(item , end =\" \")\n",
        "    \n",
        "    else: \n",
        "      for item in np.flipud(submatrix).diagonal() : print(item , end =\" \")\n",
        "     \n",
        "\n",
        "  for i in range(size): \n",
        "    submatrix = new_matrix[i+1:size , i+1:size]\n",
        "    if(i%2 == 0): \n",
        "      for item in np.fliplr(submatrix).diagonal(): print(item , end =\" \")\n",
        "    \n",
        "    else: \n",
        "      for item in np.flipud(submatrix).diagonal() : print(item , end =\" \")\n",
        "     \n",
        "\n",
        "\n",
        "\n",
        "  \n",
        "\n",
        "  ##############################################\n",
        "  ############ YOUR CODES GO HERE ##############\n",
        "  ##############################################"
      ]
    },
    {
      "cell_type": "code",
      "execution_count": 7,
      "metadata": {
        "id": "9Imf-wvd8oKL"
      },
      "outputs": [
        {
          "name": "stdout",
          "output_type": "stream",
          "text": [
            "62 10 48 56 60 97 14 26 58 None\n"
          ]
        }
      ],
      "source": [
        "print(traverse_matrix(matrix))\n",
        "#print output"
      ]
    }
  ],
  "metadata": {
    "colab": {
      "provenance": []
    },
    "kernelspec": {
      "display_name": "Python 3",
      "language": "python",
      "name": "python3"
    },
    "language_info": {
      "codemirror_mode": {
        "name": "ipython",
        "version": 3
      },
      "file_extension": ".py",
      "mimetype": "text/x-python",
      "name": "python",
      "nbconvert_exporter": "python",
      "pygments_lexer": "ipython3",
      "version": "3.10.6"
    },
    "vscode": {
      "interpreter": {
        "hash": "bcfb44a863067ea4e90f0953beba97ab92d217ab9037ee4bc593c867b78e2025"
      }
    }
  },
  "nbformat": 4,
  "nbformat_minor": 0
}
